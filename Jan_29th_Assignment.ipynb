{
 "cells": [
  {
   "cell_type": "markdown",
   "id": "c6be421a-b4dc-4030-8d33-b9076a6fd217",
   "metadata": {},
   "source": [
    "# 1. Who developed Python Programming Language?"
   ]
  },
  {
   "cell_type": "markdown",
   "id": "0345de6a-b647-4c6d-a937-77f658b746af",
   "metadata": {},
   "source": [
    "Guido Van Rossum in late 1980s"
   ]
  },
  {
   "cell_type": "markdown",
   "id": "07e69e56-7cb7-4ff4-ac44-696a63657af6",
   "metadata": {},
   "source": [
    "# 2. Which type of Programming does Python support?"
   ]
  },
  {
   "cell_type": "markdown",
   "id": "42c81674-47f9-4f91-b5d3-334e93e4a37f",
   "metadata": {},
   "source": [
    "Procedural, Object-oriented, Functional, Imperative programming"
   ]
  },
  {
   "cell_type": "markdown",
   "id": "5b85e2c9-763b-43d0-91a0-9a34ebb2a201",
   "metadata": {},
   "source": [
    "# 3. Is Python case sensitive when dealing with identifiers?"
   ]
  },
  {
   "cell_type": "markdown",
   "id": "f83a9927-f025-4ea4-b717-83c993e5ef6f",
   "metadata": {},
   "source": [
    "Yes, Python is case-sensitive when dealing with identifiers"
   ]
  },
  {
   "cell_type": "markdown",
   "id": "3dab5d09-696f-4517-b9b4-d9ea374dc41c",
   "metadata": {},
   "source": [
    "# 4. What is the correct extension of the Python file?\n"
   ]
  },
  {
   "cell_type": "markdown",
   "id": "c2888098-104d-40f8-999a-96bfe932380c",
   "metadata": {},
   "source": [
    "The correct extension for python file is \".py\""
   ]
  },
  {
   "cell_type": "markdown",
   "id": "84acc1df-c16f-4fe5-92d6-42fbb767b6ba",
   "metadata": {},
   "source": [
    "# 5. Is Python code compiled or interpreted?"
   ]
  },
  {
   "cell_type": "markdown",
   "id": "3bdaeaef-79fa-4d88-ad79-9865548b895f",
   "metadata": {},
   "source": [
    "Interpreted. The python interpreter reads the code line by line and executed it directly without the need for a separate compilation step"
   ]
  },
  {
   "cell_type": "markdown",
   "id": "ef26d9e7-f14c-43c0-a315-1b3fe63f5bde",
   "metadata": {},
   "source": [
    "# 6. Name a few blocks of code used to define in Python language?"
   ]
  },
  {
   "cell_type": "markdown",
   "id": "06c876c9-3990-4e25-8605-e02a4f3957cd",
   "metadata": {},
   "source": [
    "def, if, ifelse, class, for, while, try excpet finally"
   ]
  },
  {
   "cell_type": "markdown",
   "id": "115bdb98-a082-4ec5-b06d-80f821c157b4",
   "metadata": {},
   "source": [
    "# 7. State a character used to give single-line comments in Python?"
   ]
  },
  {
   "cell_type": "markdown",
   "id": "5fc1e95b-cf7a-436f-8a70-5f1adf26c7c6",
   "metadata": {},
   "source": [
    " Hash(\\#)"
   ]
  },
  {
   "cell_type": "markdown",
   "id": "db36f0f5-d7e3-4455-b56f-3c1ae718cf24",
   "metadata": {},
   "source": [
    "# 8. Mention functions which can help us to find the version of python that we are currently working on?"
   ]
  },
  {
   "cell_type": "markdown",
   "id": "dd480d84-019b-4fc0-a588-1eb0a6537d42",
   "metadata": {},
   "source": [
    "'python --version' in command prompt or\n",
    "\n",
    "'import sys \n",
    "print(sys.version)' in python code"
   ]
  },
  {
   "cell_type": "markdown",
   "id": "b016c780-ba89-4381-9659-2bb6983e6bb4",
   "metadata": {},
   "source": [
    "# 9. Python supports the creation of anonymous functions at runtime, using a construct called"
   ]
  },
  {
   "cell_type": "markdown",
   "id": "9d74684e-7bcc-4895-8ab0-36d68e7e10d6",
   "metadata": {},
   "source": [
    "lambda"
   ]
  },
  {
   "cell_type": "markdown",
   "id": "9226df30-48b0-42a3-a2dc-265c76a7886a",
   "metadata": {},
   "source": [
    "# 10. What does pip stand for python?"
   ]
  },
  {
   "cell_type": "markdown",
   "id": "46a60ddf-6c71-4c85-b849-059cba71580f",
   "metadata": {},
   "source": [
    "pip installs packages"
   ]
  },
  {
   "cell_type": "markdown",
   "id": "026854d0-e0fe-486b-b570-4d8c746728c9",
   "metadata": {},
   "source": [
    "# 11. Mention a few built-in functions in python?"
   ]
  },
  {
   "cell_type": "markdown",
   "id": "2869a1a5-0f14-4c2e-8af1-8d466804fc24",
   "metadata": {},
   "source": [
    "print, type, input, int, float, str, len, list, min, max"
   ]
  },
  {
   "cell_type": "markdown",
   "id": "62e5f864-2399-4c52-9554-32d2223687ac",
   "metadata": {},
   "source": [
    "# 12. What is the maximum possible length of an identifier in Python?"
   ]
  },
  {
   "cell_type": "markdown",
   "id": "bc803ffd-bb47-4270-a264-000d4c1d1663",
   "metadata": {},
   "source": [
    "255 characters in length"
   ]
  },
  {
   "cell_type": "markdown",
   "id": "bf13dc28-1c60-4d48-82b8-dc023a9c0586",
   "metadata": {},
   "source": [
    "# 13. What are the benefits of using Python?"
   ]
  },
  {
   "cell_type": "markdown",
   "id": "8fd23f8b-ed2a-4d45-9aee-18d2f9e9ce2f",
   "metadata": {},
   "source": [
    "Readability and maintainability, Versatility, lot of frameworks and librarires, strong community support."
   ]
  },
  {
   "cell_type": "markdown",
   "id": "ac6010d0-7d6d-49b5-be0f-554f5686fb7f",
   "metadata": {},
   "source": [
    "# 14. How is memory managed in Python?"
   ]
  },
  {
   "cell_type": "markdown",
   "id": "91783300-8db7-4a54-90e2-ab78c89076c5",
   "metadata": {},
   "source": [
    "1. keeping track of objects\n",
    "2. cleaning up unused objcects\n",
    "3. checking for unused objects\n",
    "4. reusing memory\n",
    "\n",
    "these are steps followd by python memory manager."
   ]
  },
  {
   "cell_type": "markdown",
   "id": "6b07a98e-4e07-4fb1-a6dd-be9936f90184",
   "metadata": {},
   "source": [
    "# 15. How to install Python on Windows and set path variables?"
   ]
  },
  {
   "cell_type": "markdown",
   "id": "ac0ad079-3aff-48c2-bbb5-f6ca85bbe36f",
   "metadata": {},
   "source": [
    "1. Download Python Installer\n",
    "2. Run Python Installer\n",
    "3. Configure Installation Options\n",
    "4. Wait for installation to complete\n",
    "5. Verify Installation\n",
    "6. Set PATH variables\n",
    "    *  Right click of my computer > Select \"Properties\"\n",
    "    *  Advanced system settings\n",
    "    * under \"System variables\", find the \"Path\" variable\n",
    "    * Click on the \"Edit\" button.\n",
    "    * In the Edit Environment Variable window, click on the \"New\" button and add the path to the Python installation directory .\n",
    "    * Click \"OK\" to save the changes.\n",
    "    * Verify PATH variables by typing 'python --version' in command prompt"
   ]
  },
  {
   "cell_type": "markdown",
   "id": "682afcf4-922d-424e-83fc-7995fff3e3ee",
   "metadata": {},
   "source": [
    "# 16. Is indentation required in python?"
   ]
  },
  {
   "cell_type": "markdown",
   "id": "dbb05635-abba-4178-aadd-c16f37e31e67",
   "metadata": {},
   "source": [
    "Yes, it is required. Unlike other programming language which uses braces, indentation has a functional aspect"
   ]
  }
 ],
 "metadata": {
  "kernelspec": {
   "display_name": "Python 3 (ipykernel)",
   "language": "python",
   "name": "python3"
  },
  "language_info": {
   "codemirror_mode": {
    "name": "ipython",
    "version": 3
   },
   "file_extension": ".py",
   "mimetype": "text/x-python",
   "name": "python",
   "nbconvert_exporter": "python",
   "pygments_lexer": "ipython3",
   "version": "3.10.8"
  }
 },
 "nbformat": 4,
 "nbformat_minor": 5
}
